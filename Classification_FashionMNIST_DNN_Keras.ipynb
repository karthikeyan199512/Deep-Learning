{
  "nbformat": 4,
  "nbformat_minor": 0,
  "metadata": {
    "colab": {
      "name": "Copy of Classification_FashionMNIST_DNN_Keras.ipynb",
      "provenance": [],
      "collapsed_sections": []
    },
    "kernelspec": {
      "name": "python3",
      "display_name": "Python 3"
    },
    "accelerator": "GPU"
  },
  "cells": [
    {
      "cell_type": "markdown",
      "metadata": {
        "id": "WF1HVABD3-K0"
      },
      "source": [
        "# Dataset Description\n"
      ]
    },
    {
      "cell_type": "markdown",
      "metadata": {
        "id": "43yRnwIG1ZIG"
      },
      "source": [
        "This guide uses the [Fashion MNIST](https://github.com/zalandoresearch/fashion-mnist) dataset which contains 70,000 grayscale images in 10 categories. The images show individual articles of clothing at low resolution (28 by 28 pixels), as seen here:\n",
        "<table>\n",
        "<tr>\n",
        "<td>\n",
        "<img src=\"https://tensorflow.org/images/fashion-mnist-sprite.png\"alt=\"Fashion MNIST sprite\" width=\"600\"></td></tr><tr><td align=\"center\"><b>Figure 1.</b> <a href=\"https://github.com/zalandoresearch/fashion-mnist\">Fashion-MNIST samples</a> (by Zalando, MIT License).<br/>&nbsp;</td></tr></table>Fashion MNIST is intended as a drop-in replacement for the classic [MNIST](http://yann.lecun.com/exdb/mnist/) dataset—often used as the \"Hello, World\" of machine learning programs for computer vision. The MNIST dataset contains images of handwritten digits (0, 1, 2, etc.) in a format identical to that of the articles of clothing you'll use here.This guide uses Fashion MNIST for variety, and because it's a slightly more challenging"
      ]
    },
    {
      "cell_type": "markdown",
      "metadata": {
        "id": "evdGwhKVXkz0"
      },
      "source": [
        "## Load Tensorflow"
      ]
    },
    {
      "cell_type": "code",
      "metadata": {
        "id": "y1QxRslb3yY8"
      },
      "source": [
        "import tensorflow as tf\n",
        "import matplotlib.pyplot as plt\n",
        "import numpy as np\n",
        "from tensorflow import keras"
      ],
      "execution_count": null,
      "outputs": []
    },
    {
      "cell_type": "markdown",
      "metadata": {
        "id": "CbeCJ3G7XoDB"
      },
      "source": [
        "## Collect Data"
      ]
    },
    {
      "cell_type": "code",
      "metadata": {
        "id": "1nrgRigoXXjJ",
        "colab": {
          "base_uri": "https://localhost:8080/"
        },
        "outputId": "d370b6ec-0e58-431f-eb6c-507a35d07b31"
      },
      "source": [
        "(train_images, train_labels),(test_images,test_labels) = tf.keras.datasets.fashion_mnist.load_data()"
      ],
      "execution_count": null,
      "outputs": [
        {
          "output_type": "stream",
          "text": [
            "Downloading data from https://storage.googleapis.com/tensorflow/tf-keras-datasets/train-labels-idx1-ubyte.gz\n",
            "32768/29515 [=================================] - 0s 0us/step\n",
            "Downloading data from https://storage.googleapis.com/tensorflow/tf-keras-datasets/train-images-idx3-ubyte.gz\n",
            "26427392/26421880 [==============================] - 0s 0us/step\n",
            "Downloading data from https://storage.googleapis.com/tensorflow/tf-keras-datasets/t10k-labels-idx1-ubyte.gz\n",
            "8192/5148 [===============================================] - 0s 0us/step\n",
            "Downloading data from https://storage.googleapis.com/tensorflow/tf-keras-datasets/t10k-images-idx3-ubyte.gz\n",
            "4423680/4422102 [==============================] - 0s 0us/step\n"
          ],
          "name": "stdout"
        }
      ]
    },
    {
      "cell_type": "code",
      "metadata": {
        "id": "LPXIgSXDJJLM"
      },
      "source": [
        "class_names = ['T-shirt/top','Trouser','Pullover','Dress','Coat','Sandal','Shirt','Sneaker','Bag','Ankle boot']"
      ],
      "execution_count": null,
      "outputs": []
    },
    {
      "cell_type": "code",
      "metadata": {
        "id": "505Kdv_a8dvD",
        "colab": {
          "base_uri": "https://localhost:8080/"
        },
        "outputId": "bea08957-8675-41a4-d9c9-e58f47865f9a"
      },
      "source": [
        "np.unique(train_labels)"
      ],
      "execution_count": null,
      "outputs": [
        {
          "output_type": "execute_result",
          "data": {
            "text/plain": [
              "array([0, 1, 2, 3, 4, 5, 6, 7, 8, 9], dtype=uint8)"
            ]
          },
          "metadata": {
            "tags": []
          },
          "execution_count": 4
        }
      ]
    },
    {
      "cell_type": "code",
      "metadata": {
        "id": "WXGOl7aS8_xK",
        "colab": {
          "base_uri": "https://localhost:8080/"
        },
        "outputId": "08510269-89fd-4a95-b4bc-497bc5629066"
      },
      "source": [
        "test_images.shape"
      ],
      "execution_count": null,
      "outputs": [
        {
          "output_type": "execute_result",
          "data": {
            "text/plain": [
              "(10000, 28, 28)"
            ]
          },
          "metadata": {
            "tags": []
          },
          "execution_count": 5
        }
      ]
    },
    {
      "cell_type": "code",
      "metadata": {
        "id": "XdGSPs3NX_FP",
        "colab": {
          "base_uri": "https://localhost:8080/"
        },
        "outputId": "d154d4e3-fd8a-4286-cbb5-e1bbd14da971"
      },
      "source": [
        "np.set_printoptions(linewidth=200)\n",
        "train_images[0]"
      ],
      "execution_count": null,
      "outputs": [
        {
          "output_type": "execute_result",
          "data": {
            "text/plain": [
              "array([[  0,   0,   0,   0,   0,   0,   0,   0,   0,   0,   0,   0,   0,   0,   0,   0,   0,   0,   0,   0,   0,   0,   0,   0,   0,   0,   0,   0],\n",
              "       [  0,   0,   0,   0,   0,   0,   0,   0,   0,   0,   0,   0,   0,   0,   0,   0,   0,   0,   0,   0,   0,   0,   0,   0,   0,   0,   0,   0],\n",
              "       [  0,   0,   0,   0,   0,   0,   0,   0,   0,   0,   0,   0,   0,   0,   0,   0,   0,   0,   0,   0,   0,   0,   0,   0,   0,   0,   0,   0],\n",
              "       [  0,   0,   0,   0,   0,   0,   0,   0,   0,   0,   0,   0,   1,   0,   0,  13,  73,   0,   0,   1,   4,   0,   0,   0,   0,   1,   1,   0],\n",
              "       [  0,   0,   0,   0,   0,   0,   0,   0,   0,   0,   0,   0,   3,   0,  36, 136, 127,  62,  54,   0,   0,   0,   1,   3,   4,   0,   0,   3],\n",
              "       [  0,   0,   0,   0,   0,   0,   0,   0,   0,   0,   0,   0,   6,   0, 102, 204, 176, 134, 144, 123,  23,   0,   0,   0,   0,  12,  10,   0],\n",
              "       [  0,   0,   0,   0,   0,   0,   0,   0,   0,   0,   0,   0,   0,   0, 155, 236, 207, 178, 107, 156, 161, 109,  64,  23,  77, 130,  72,  15],\n",
              "       [  0,   0,   0,   0,   0,   0,   0,   0,   0,   0,   0,   1,   0,  69, 207, 223, 218, 216, 216, 163, 127, 121, 122, 146, 141,  88, 172,  66],\n",
              "       [  0,   0,   0,   0,   0,   0,   0,   0,   0,   1,   1,   1,   0, 200, 232, 232, 233, 229, 223, 223, 215, 213, 164, 127, 123, 196, 229,   0],\n",
              "       [  0,   0,   0,   0,   0,   0,   0,   0,   0,   0,   0,   0,   0, 183, 225, 216, 223, 228, 235, 227, 224, 222, 224, 221, 223, 245, 173,   0],\n",
              "       [  0,   0,   0,   0,   0,   0,   0,   0,   0,   0,   0,   0,   0, 193, 228, 218, 213, 198, 180, 212, 210, 211, 213, 223, 220, 243, 202,   0],\n",
              "       [  0,   0,   0,   0,   0,   0,   0,   0,   0,   1,   3,   0,  12, 219, 220, 212, 218, 192, 169, 227, 208, 218, 224, 212, 226, 197, 209,  52],\n",
              "       [  0,   0,   0,   0,   0,   0,   0,   0,   0,   0,   6,   0,  99, 244, 222, 220, 218, 203, 198, 221, 215, 213, 222, 220, 245, 119, 167,  56],\n",
              "       [  0,   0,   0,   0,   0,   0,   0,   0,   0,   4,   0,   0,  55, 236, 228, 230, 228, 240, 232, 213, 218, 223, 234, 217, 217, 209,  92,   0],\n",
              "       [  0,   0,   1,   4,   6,   7,   2,   0,   0,   0,   0,   0, 237, 226, 217, 223, 222, 219, 222, 221, 216, 223, 229, 215, 218, 255,  77,   0],\n",
              "       [  0,   3,   0,   0,   0,   0,   0,   0,   0,  62, 145, 204, 228, 207, 213, 221, 218, 208, 211, 218, 224, 223, 219, 215, 224, 244, 159,   0],\n",
              "       [  0,   0,   0,   0,  18,  44,  82, 107, 189, 228, 220, 222, 217, 226, 200, 205, 211, 230, 224, 234, 176, 188, 250, 248, 233, 238, 215,   0],\n",
              "       [  0,  57, 187, 208, 224, 221, 224, 208, 204, 214, 208, 209, 200, 159, 245, 193, 206, 223, 255, 255, 221, 234, 221, 211, 220, 232, 246,   0],\n",
              "       [  3, 202, 228, 224, 221, 211, 211, 214, 205, 205, 205, 220, 240,  80, 150, 255, 229, 221, 188, 154, 191, 210, 204, 209, 222, 228, 225,   0],\n",
              "       [ 98, 233, 198, 210, 222, 229, 229, 234, 249, 220, 194, 215, 217, 241,  65,  73, 106, 117, 168, 219, 221, 215, 217, 223, 223, 224, 229,  29],\n",
              "       [ 75, 204, 212, 204, 193, 205, 211, 225, 216, 185, 197, 206, 198, 213, 240, 195, 227, 245, 239, 223, 218, 212, 209, 222, 220, 221, 230,  67],\n",
              "       [ 48, 203, 183, 194, 213, 197, 185, 190, 194, 192, 202, 214, 219, 221, 220, 236, 225, 216, 199, 206, 186, 181, 177, 172, 181, 205, 206, 115],\n",
              "       [  0, 122, 219, 193, 179, 171, 183, 196, 204, 210, 213, 207, 211, 210, 200, 196, 194, 191, 195, 191, 198, 192, 176, 156, 167, 177, 210,  92],\n",
              "       [  0,   0,  74, 189, 212, 191, 175, 172, 175, 181, 185, 188, 189, 188, 193, 198, 204, 209, 210, 210, 211, 188, 188, 194, 192, 216, 170,   0],\n",
              "       [  2,   0,   0,   0,  66, 200, 222, 237, 239, 242, 246, 243, 244, 221, 220, 193, 191, 179, 182, 182, 181, 176, 166, 168,  99,  58,   0,   0],\n",
              "       [  0,   0,   0,   0,   0,   0,   0,  40,  61,  44,  72,  41,  35,   0,   0,   0,   0,   0,   0,   0,   0,   0,   0,   0,   0,   0,   0,   0],\n",
              "       [  0,   0,   0,   0,   0,   0,   0,   0,   0,   0,   0,   0,   0,   0,   0,   0,   0,   0,   0,   0,   0,   0,   0,   0,   0,   0,   0,   0],\n",
              "       [  0,   0,   0,   0,   0,   0,   0,   0,   0,   0,   0,   0,   0,   0,   0,   0,   0,   0,   0,   0,   0,   0,   0,   0,   0,   0,   0,   0]], dtype=uint8)"
            ]
          },
          "metadata": {
            "tags": []
          },
          "execution_count": 6
        }
      ]
    },
    {
      "cell_type": "code",
      "metadata": {
        "id": "Rq7KF0FWYDBH",
        "colab": {
          "base_uri": "https://localhost:8080/",
          "height": 282
        },
        "outputId": "5a673f09-a91c-4414-af70-46cfb2194ac1"
      },
      "source": [
        "plt.imshow(train_images[0])"
      ],
      "execution_count": null,
      "outputs": [
        {
          "output_type": "execute_result",
          "data": {
            "text/plain": [
              "<matplotlib.image.AxesImage at 0x7fde6696e320>"
            ]
          },
          "metadata": {
            "tags": []
          },
          "execution_count": 7
        },
        {
          "output_type": "display_data",
          "data": {
            "image/png": "[encoded data removed]",
            "text/plain": [
              "<Figure size 432x288 with 1 Axes>"
            ]
          },
          "metadata": {
            "tags": [],
            "needs_background": "light"
          }
        }
      ]
    },
    {
      "cell_type": "markdown",
      "metadata": {
        "id": "UnqMY6zB9OrW"
      },
      "source": [
        "## Preprocess the data\n",
        "The data must be preprocessed before training the network. If you inspect the first image in the training set, you will see that the pixel values fall in the range of 0 to 255: "
      ]
    },
    {
      "cell_type": "code",
      "metadata": {
        "id": "p6tJ096G9NQe",
        "colab": {
          "base_uri": "https://localhost:8080/",
          "height": 265
        },
        "outputId": "e077594f-0bf8-4ae8-f8d7-ce01e7ac7094"
      },
      "source": [
        "plt.figure()\n",
        "plt.imshow(train_images[1])\n",
        "plt.colorbar()\n",
        "plt.grid(True)\n",
        "plt.show()"
      ],
      "execution_count": null,
      "outputs": [
        {
          "output_type": "display_data",
          "data": {
            "image/png": "[encoded data removed]",
            "text/plain": [
              "<Figure size 432x288 with 2 Axes>"
            ]
          },
          "metadata": {
            "tags": [],
            "needs_background": "light"
          }
        }
      ]
    },
    {
      "cell_type": "code",
      "metadata": {
        "id": "rgOWAR7V-Dzu",
        "colab": {
          "base_uri": "https://localhost:8080/"
        },
        "outputId": "bb83395d-42f9-4cbc-f24a-529ebc9927bc"
      },
      "source": [
        "train_labels[1]"
      ],
      "execution_count": null,
      "outputs": [
        {
          "output_type": "execute_result",
          "data": {
            "text/plain": [
              "0"
            ]
          },
          "metadata": {
            "tags": []
          },
          "execution_count": 9
        }
      ]
    },
    {
      "cell_type": "markdown",
      "metadata": {
        "id": "l_yRIIjF-P7p"
      },
      "source": [
        "## Normalize the data using Min-max normalization\n",
        "Scale these values to a range 0 to 1 before feeding them to neural network model. To do so, divide the values by 255. Its important that the training set and the testing set to be preprocessed in the same way:"
      ]
    },
    {
      "cell_type": "code",
      "metadata": {
        "id": "RRaBhOps-r8F"
      },
      "source": [
        "train_images = train_images / 255.0\n",
        "test_images = test_images / 255.0\n",
        "## (value - min)/(max - min), here max is 255 and min is 0 hence divide by 255"
      ],
      "execution_count": null,
      "outputs": []
    },
    {
      "cell_type": "markdown",
      "metadata": {
        "id": "nLg-jy-2Yo-B"
      },
      "source": [
        "To verify the data is in the correct format and that you are ready to build and train the network, lets display the 1st 25 images from the training set and display the class name below each image"
      ]
    },
    {
      "cell_type": "code",
      "metadata": {
        "id": "QRzmFOxG_mVx",
        "colab": {
          "base_uri": "https://localhost:8080/",
          "height": 589
        },
        "outputId": "063a4221-5dd9-466d-c4c1-54a3c98aaf6d"
      },
      "source": [
        "plt.figure(figsize=(10,10))\n",
        "for i in range(25):\n",
        "  plt.subplot(5,5,i+1)\n",
        "  plt.xticks([])\n",
        "  plt.yticks([])\n",
        "  plt.imshow(train_images[i], cmap=plt.cm.binary)\n",
        "  plt.xlabel(class_names[train_labels[i]])\n",
        "plt.show()"
      ],
      "execution_count": null,
      "outputs": [
        {
          "output_type": "display_data",
          "data": {
            "image/png": "[encoded data removed]",
            "text/plain": [
              "<Figure size 720x720 with 25 Axes>"
            ]
          },
          "metadata": {
            "tags": []
          }
        }
      ]
    },
    {
      "cell_type": "markdown",
      "metadata": {
        "id": "F3isO2RPA6At"
      },
      "source": [
        "## Build the model\n",
        "Building the NN requires configuring the layers of the model, then compiling the model"
      ]
    },
    {
      "cell_type": "markdown",
      "metadata": {
        "id": "ueL8zn9VBIsu"
      },
      "source": [
        "## Set up the layers\n",
        "Layers extract representations from the data fed into them. Hopefully, these representations are meaningful for the problem at hand.\n",
        "\n",
        "Most of the deep learning consists of chaining together simple layers. Most layers, such as `tf.keras.layers.Dense`, have parameters that are learned during training"
      ]
    },
    {
      "cell_type": "code",
      "metadata": {
        "id": "thWXVggJYYm3"
      },
      "source": [
        "model = tf.keras.Sequential([\n",
        "    keras.layers.Flatten(input_shape=(28,28)),\n",
        "    keras.layers.Dense(128,activation='relu'),\n",
        "    keras.layers.Dense(10)\n",
        "])"
      ],
      "execution_count": null,
      "outputs": []
    },
    {
      "cell_type": "markdown",
      "metadata": {
        "id": "yX8pn9XzCT6N"
      },
      "source": [
        "The 1st layer in this network, tf.keras.layers.Flatten transforms the format of the images from a 2-D array (of 28 by 28 pixels) to a 1-D array (of 784 pixels). Think of this layer as unstacking rows of pixels in the image and lining them up. This layer has no parameters to learn; it only reformats the data\n",
        "\n",
        "After the pixels are flattened, the network consists of a sequence of 2 tf.keras.layers.Dense layers. These are densely connected, or fully connected, NN layers. The first layer has 128 nodes (or neurons). The 2nd (and last) layer returns a logits array with length of 10.\n",
        "\n",
        "Each node contains a score that indicates the current image belongs to one of the 10 classes."
      ]
    },
    {
      "cell_type": "markdown",
      "metadata": {
        "id": "u_IGdo_fDzCK"
      },
      "source": [
        "## Compile the model\n",
        "Before the model is ready for training, it needs a few more settings. These are added during the model's compile step:\n",
        "\n",
        "- Loss function - This measures how accurate the model is during training. You want to minimize this function to 'steer' the model in the right direction.\n",
        "- Optimizer - This is how the model is updated based on the data it sees and its loss function.\n",
        "- Metrics - Used to monitor the training and testing steps. The following example uses accuracy, the fraction of the images that are correctly classified."
      ]
    },
    {
      "cell_type": "code",
      "metadata": {
        "id": "4xsKTtjoZGpk"
      },
      "source": [
        "model.compile(optimizer='adam',\n",
        "              loss= tf.keras.losses.SparseCategoricalCrossentropy(from_logits=True),\n",
        "              metrics=['accuracy'])\n",
        "# tf.keras.losses.SparseCategoricalCrossentropy(from_logits=True)\n",
        "# when one-hot encoded use categorical_crossentropy\n",
        "# when no one-hot use sparse_categorical_crossentropy"
      ],
      "execution_count": null,
      "outputs": []
    },
    {
      "cell_type": "markdown",
      "metadata": {
        "id": "lZgR6dmOZNOT"
      },
      "source": [
        "## Train the model\n",
        "\n",
        "Training the NN model requires the foll steps:\n",
        "- Feed the training data to the model. In this exmaple, the training data is in the train_images and train_labels arrays.\n",
        "- The model learns to associate images and labels\n",
        "- You ask the model to make predictions about a test set - in this example the test_images array\n",
        "-Verify that the predictions match the labels from the test_labels array"
      ]
    },
    {
      "cell_type": "markdown",
      "metadata": {
        "id": "gFf-zAlNGwye"
      },
      "source": [
        "## Feed the model\n",
        "\n",
        "To start training, call the model.fit method- so called because it fits the model to the training data:"
      ]
    },
    {
      "cell_type": "code",
      "metadata": {
        "id": "cNc1skigZIsb",
        "colab": {
          "base_uri": "https://localhost:8080/"
        },
        "outputId": "f38590ae-e483-4a11-d538-e78a1e9ac650"
      },
      "source": [
        "model.fit(train_images,train_labels,epochs=10)"
      ],
      "execution_count": null,
      "outputs": [
        {
          "output_type": "stream",
          "text": [
            "Epoch 1/10\n",
            "1875/1875 [==============================] - 3s 2ms/step - loss: 0.4985 - accuracy: 0.8246\n",
            "Epoch 2/10\n",
            "1875/1875 [==============================] - 3s 2ms/step - loss: 0.3759 - accuracy: 0.8640\n",
            "Epoch 3/10\n",
            "1875/1875 [==============================] - 3s 2ms/step - loss: 0.3356 - accuracy: 0.8781\n",
            "Epoch 4/10\n",
            "1875/1875 [==============================] - 3s 2ms/step - loss: 0.3126 - accuracy: 0.8854\n",
            "Epoch 5/10\n",
            "1875/1875 [==============================] - 3s 2ms/step - loss: 0.2927 - accuracy: 0.8922\n",
            "Epoch 6/10\n",
            "1875/1875 [==============================] - 3s 2ms/step - loss: 0.2793 - accuracy: 0.8965\n",
            "Epoch 7/10\n",
            "1875/1875 [==============================] - 3s 2ms/step - loss: 0.2654 - accuracy: 0.9024\n",
            "Epoch 8/10\n",
            "1875/1875 [==============================] - 3s 2ms/step - loss: 0.2551 - accuracy: 0.9059\n",
            "Epoch 9/10\n",
            "1875/1875 [==============================] - 3s 2ms/step - loss: 0.2461 - accuracy: 0.9080\n",
            "Epoch 10/10\n",
            "1875/1875 [==============================] - 4s 2ms/step - loss: 0.2375 - accuracy: 0.9109\n"
          ],
          "name": "stdout"
        },
        {
          "output_type": "execute_result",
          "data": {
            "text/plain": [
              "<tensorflow.python.keras.callbacks.History at 0x7fde5038c7f0>"
            ]
          },
          "metadata": {
            "tags": []
          },
          "execution_count": 14
        }
      ]
    },
    {
      "cell_type": "markdown",
      "metadata": {
        "id": "9KRvHlQGHcBd"
      },
      "source": [
        "As the model trains, the loss and accuracy metrics are displayed. This model reaches an accuracy of about 0.91 on the training data."
      ]
    },
    {
      "cell_type": "markdown",
      "metadata": {
        "id": "eS08Xm0bIgw_"
      },
      "source": [
        "## Evaluate the accuracy\n",
        "Next, compare how the model performs on the test dataset:"
      ]
    },
    {
      "cell_type": "code",
      "metadata": {
        "id": "Y80hf-duhLWg",
        "colab": {
          "base_uri": "https://localhost:8080/"
        },
        "outputId": "f965691a-f56c-4ec1-e531-b1f0be136a0c"
      },
      "source": [
        "test_loss, test_acc = model.evaluate(test_images,test_labels,verbose=2)\n",
        "print('\\nTest accuracy:', test_acc)"
      ],
      "execution_count": null,
      "outputs": [
        {
          "output_type": "stream",
          "text": [
            "313/313 - 1s - loss: 0.3203 - accuracy: 0.8874\n",
            "\n",
            "Test accuracy: 0.8873999714851379\n"
          ],
          "name": "stdout"
        }
      ]
    },
    {
      "cell_type": "markdown",
      "metadata": {
        "id": "o44lbt68I9rh"
      },
      "source": [
        "It turns out that the accuracy on the test dataset is a little less than the accuracy on the training dataset. This gap between training accuracy and test accuracy represents overfitting. Overfitting happens when a ML model performs worse on the new, previously unseen inputs than it does on the train data. An overfitted model 'memorizes' the noise and details in the training dataset to a point where it negatively impacts the performance of the model on the new data"
      ]
    },
    {
      "cell_type": "markdown",
      "metadata": {
        "id": "G7bszqI8KrJx"
      },
      "source": [
        "## Make predictions\n",
        "With the model trained, you can use it to make predictions about some images. The model's linear outputs, logits. Attach a softmax layer to convert the logits to probabilities, which are easier to interpret."
      ]
    },
    {
      "cell_type": "code",
      "metadata": {
        "id": "ou_YDyRJI3Rm"
      },
      "source": [
        "probability_model = tf.keras.Sequential([model,tf.keras.layers.Softmax()])\n",
        "# without adding softmax layer predictions result in negative values through which we cannot predict the classes"
      ],
      "execution_count": null,
      "outputs": []
    },
    {
      "cell_type": "code",
      "metadata": {
        "id": "-5xAZDe0LS8d"
      },
      "source": [
        "predictions = probability_model.predict(test_images)\n",
        "#predictions = model.predict(test_images)"
      ],
      "execution_count": null,
      "outputs": []
    },
    {
      "cell_type": "markdown",
      "metadata": {
        "id": "GLMylW5qLj8E"
      },
      "source": [
        "Here, the model has predicted the label for each image in the testing set."
      ]
    },
    {
      "cell_type": "code",
      "metadata": {
        "id": "ZnvzH8u_LjCL",
        "colab": {
          "base_uri": "https://localhost:8080/"
        },
        "outputId": "9a0f3755-1cca-4188-b5b0-2b3ce29860cb"
      },
      "source": [
        "predictions[0]"
      ],
      "execution_count": null,
      "outputs": [
        {
          "output_type": "execute_result",
          "data": {
            "text/plain": [
              "array([7.7460140e-07, 2.2197953e-07, 3.8254964e-09, 6.8257296e-11, 8.0109608e-09, 9.7581669e-04, 7.5645286e-09, 2.4979897e-02, 3.3004476e-08, 9.7404331e-01], dtype=float32)"
            ]
          },
          "metadata": {
            "tags": []
          },
          "execution_count": 18
        }
      ]
    },
    {
      "cell_type": "code",
      "metadata": {
        "id": "3ZfjsFvdSQ0a",
        "colab": {
          "base_uri": "https://localhost:8080/"
        },
        "outputId": "17fd52d6-5467-4079-fb5f-04e45654ee50"
      },
      "source": [
        "predictions[0].argsort()[::-1] #get the index which has highest prob value"
      ],
      "execution_count": null,
      "outputs": [
        {
          "output_type": "execute_result",
          "data": {
            "text/plain": [
              "array([9, 7, 5, 0, 1, 8, 4, 6, 2, 3])"
            ]
          },
          "metadata": {
            "tags": []
          },
          "execution_count": 19
        }
      ]
    },
    {
      "cell_type": "markdown",
      "metadata": {
        "id": "tZgO4JLbL3dw"
      },
      "source": [
        "A prediction is an array of 10 numbers. They represent the model's confidence that the image corresponds to each of the 10 differrent articles of clothing. You can see which label has highest confidence value:"
      ]
    },
    {
      "cell_type": "markdown",
      "metadata": {
        "id": "oJrA8xRoOXUW"
      },
      "source": [
        "Graph this to look at the full set of 10 class predictions"
      ]
    },
    {
      "cell_type": "code",
      "metadata": {
        "id": "4XCbSJaGOQk_"
      },
      "source": [
        "def plot_image(i, predictions_array, true_label, img):\n",
        "  predictions_array, true_label, img = predictions_array, true_label[i], img[i]\n",
        "  plt.grid(False)\n",
        "  plt.xticks([])\n",
        "  plt.yticks([])\n",
        "  \n",
        "  plt.imshow(img, cmap=plt.cm.binary)\n",
        "  \n",
        "  predicted_label = np.argmax(predictions_array)\n",
        "  if predicted_label == true_label:\n",
        "    color = 'blue'\n",
        "  else:\n",
        "    color = 'red'\n",
        "      \n",
        "  plt.xlabel(\"{} {:2.0f}% ({})\".format(class_names[predicted_label],\n",
        "                                       100*np.max(predictions_array),\n",
        "                                       class_names[true_label]),\n",
        "                                       color=color)\n",
        "def plot_value_array(i, predictions_array, true_label):\n",
        "  predictions_array, true_label = predictions_array, true_label[i]\n",
        "  plt.grid(False)\n",
        "  plt.xticks(range(10))\n",
        "  plt.yticks([])\n",
        "  thisplot = plt.bar(range(10), predictions_array, color=\"#777777\")\n",
        "  plt.ylim([0, 1])\n",
        "  predicted_label = np.argmax(predictions_array)\n",
        "  thisplot[predicted_label].set_color('red')\n",
        "  thisplot[true_label].set_color('blue')"
      ],
      "execution_count": null,
      "outputs": []
    },
    {
      "cell_type": "markdown",
      "metadata": {
        "id": "C9KdYMdOPZBU"
      },
      "source": [
        "## Verify predictions\n",
        "With the model trained, you can use it to make predictions about some images.\n",
        "\n",
        "Lets look at 0th image, predictions and prediction array. Correct prediction labels are blue and incorrect prediction labels are red. The number gives the percentage for the predicted label"
      ]
    },
    {
      "cell_type": "code",
      "metadata": {
        "id": "loUknIV0PI65",
        "colab": {
          "base_uri": "https://localhost:8080/",
          "height": 211
        },
        "outputId": "cd8ed0d8-eeec-482f-e0f8-ab7513c63be8"
      },
      "source": [
        "i = 0\n",
        "plt.figure(figsize=(6,3))\n",
        "plt.subplot(1,2,1)\n",
        "plot_image(i,predictions[i],test_labels,test_images)\n",
        "plt.subplot(1,2,2)\n",
        "plot_value_array(i,predictions[i],test_labels)\n",
        "plt.show()"
      ],
      "execution_count": null,
      "outputs": [
        {
          "output_type": "display_data",
          "data": {
            "image/png": "[encoded data removed]",
            "text/plain": [
              "<Figure size 432x216 with 2 Axes>"
            ]
          },
          "metadata": {
            "tags": [],
            "needs_background": "light"
          }
        }
      ]
    },
    {
      "cell_type": "code",
      "metadata": {
        "id": "69-hCpasQbUk",
        "colab": {
          "base_uri": "https://localhost:8080/",
          "height": 211
        },
        "outputId": "94ade2c0-edde-4323-c6a9-c379dcc81a13"
      },
      "source": [
        "i = 12\n",
        "plt.figure(figsize=(6,3))\n",
        "plt.subplot(1,2,1)\n",
        "plot_image(i,predictions[i],test_labels,test_images)\n",
        "plt.subplot(1,2,2)\n",
        "plot_value_array(i,predictions[i],test_labels)\n",
        "plt.show()"
      ],
      "execution_count": null,
      "outputs": [
        {
          "output_type": "display_data",
          "data": {
            "image/png": "[encoded data removed]",
            "text/plain": [
              "<Figure size 432x216 with 2 Axes>"
            ]
          },
          "metadata": {
            "tags": [],
            "needs_background": "light"
          }
        }
      ]
    },
    {
      "cell_type": "markdown",
      "metadata": {
        "id": "d0Tndn0DQwsn"
      },
      "source": [
        "Lets plot several images with their predictions, Note that the model can wrong even when very confident"
      ]
    },
    {
      "cell_type": "code",
      "metadata": {
        "id": "iYThsY7ZQmI1",
        "colab": {
          "base_uri": "https://localhost:8080/",
          "height": 557
        },
        "outputId": "28a01ef9-9fa1-47ce-9206-26fc1b5a7ce8"
      },
      "source": [
        "# Plot the 1st X test images, their predicted labels and the true labels\n",
        "# color correct prediction in blue and incorrect prediction in red\n",
        "num_rows = 5\n",
        "num_cols = 3\n",
        "num_images = num_rows*num_cols\n",
        "plt.figure(figsize=(2*2*num_cols,2*num_rows))\n",
        "for i in range(num_images):\n",
        "  plt.subplot(num_rows, 2*num_cols, 2*i+1)\n",
        "  plot_image(i,predictions[i],test_labels,test_images)\n",
        "  plt.subplot(num_rows,2*num_cols,2*i+2)\n",
        "  plot_value_array(i,predictions[i],test_labels)\n",
        "plt.tight_layout()\n",
        "plt.show()"
      ],
      "execution_count": null,
      "outputs": [
        {
          "output_type": "display_data",
          "data": {
            "image/png": "[encoded data removed]",
            "text/plain": [
              "<Figure size 864x720 with 30 Axes>"
            ]
          },
          "metadata": {
            "tags": [],
            "needs_background": "light"
          }
        }
      ]
    },
    {
      "cell_type": "markdown",
      "metadata": {
        "id": "ZXItkG8MSSBp"
      },
      "source": [
        "## Use the trained model\n",
        "\n",
        "Finally, use the trained model to make a prediction about a single image."
      ]
    },
    {
      "cell_type": "code",
      "metadata": {
        "id": "VTXQPUJ9SNFM",
        "colab": {
          "base_uri": "https://localhost:8080/"
        },
        "outputId": "daabb267-c6c2-4c51-9c4b-07a1691f2e9f"
      },
      "source": [
        "# Grab an image from the test dataset\n",
        "img = test_images[1]\n",
        "\n",
        "print(img.shape)"
      ],
      "execution_count": null,
      "outputs": [
        {
          "output_type": "stream",
          "text": [
            "(28, 28)\n"
          ],
          "name": "stdout"
        }
      ]
    },
    {
      "cell_type": "markdown",
      "metadata": {
        "id": "CZG5iZh_Tdra"
      },
      "source": [
        "tf.keras models are optimised to make predictions on a batch or collection of examples at once. Accordingly even though you're using a single image you need to add it to a list"
      ]
    },
    {
      "cell_type": "code",
      "metadata": {
        "id": "xjXmYFOuT0kq",
        "colab": {
          "base_uri": "https://localhost:8080/"
        },
        "outputId": "bdeaa773-2f27-4ba6-ab1a-23f8347d66e3"
      },
      "source": [
        "# Add the image to a batch where its the only member\n",
        "img = (np.expand_dims(img,0))\n",
        "print(img.shape)"
      ],
      "execution_count": null,
      "outputs": [
        {
          "output_type": "stream",
          "text": [
            "(1, 28, 28)\n"
          ],
          "name": "stdout"
        }
      ]
    },
    {
      "cell_type": "markdown",
      "metadata": {
        "id": "CPjLLLmRSoHc"
      },
      "source": [
        "Now predict the correct label for this image"
      ]
    },
    {
      "cell_type": "code",
      "metadata": {
        "id": "s4TY1qELSlAd",
        "colab": {
          "base_uri": "https://localhost:8080/"
        },
        "outputId": "6160161c-c03c-4246-dfa9-4a4b181c1a62"
      },
      "source": [
        "prediction_single = probability_model.predict(img)\n",
        "print(prediction_single)"
      ],
      "execution_count": null,
      "outputs": [
        {
          "output_type": "stream",
          "text": [
            "[[8.1003840e-05 2.2248228e-14 9.9813253e-01 1.1502841e-11 1.3842155e-03 4.3836157e-09 4.0218982e-04 4.2807029e-14 4.3581636e-09 8.8953418e-15]]\n"
          ],
          "name": "stdout"
        }
      ]
    },
    {
      "cell_type": "code",
      "metadata": {
        "id": "t1R6HxzXSz7N",
        "colab": {
          "base_uri": "https://localhost:8080/",
          "height": 300
        },
        "outputId": "76f9ed4c-7001-440b-901c-08e997843a71"
      },
      "source": [
        "plot_value_array(1,prediction_single[0],test_labels)\n",
        "_ = plt.xticks(range(10),class_names,rotation=45)"
      ],
      "execution_count": null,
      "outputs": [
        {
          "output_type": "display_data",
          "data": {
            "image/png": "[encoded data removed]",
            "text/plain": [
              "<Figure size 432x288 with 1 Axes>"
            ]
          },
          "metadata": {
            "tags": [],
            "needs_background": "light"
          }
        }
      ]
    },
    {
      "cell_type": "markdown",
      "metadata": {
        "id": "T8gBISh0UYmv"
      },
      "source": [
        "keras.Model.predict returns a list of lists- one list for each image in the batch of data. Grab the predictions for our image in the batch"
      ]
    },
    {
      "cell_type": "code",
      "metadata": {
        "id": "_Ao2z5FNUUCQ",
        "colab": {
          "base_uri": "https://localhost:8080/"
        },
        "outputId": "1603b3e0-6e97-4823-ec19-75fdc842a683"
      },
      "source": [
        "np.argmax(prediction_single[0])"
      ],
      "execution_count": null,
      "outputs": [
        {
          "output_type": "execute_result",
          "data": {
            "text/plain": [
              "2"
            ]
          },
          "metadata": {
            "tags": []
          },
          "execution_count": 33
        }
      ]
    },
    {
      "cell_type": "markdown",
      "metadata": {
        "id": "BFL8DjL3UrcS"
      },
      "source": [
        "And the model predicts a label as expected"
      ]
    },
    {
      "cell_type": "markdown",
      "metadata": {
        "id": "wlB3qMFRu67t"
      },
      "source": [
        "# Using callbacks to control training\n",
        "- When we want to stop the training after reaching certain accuracy value, we write a call back function with a condition to check the accuracy.\n",
        "- Here, at the end of every epoch, we check whether required accuracy is reached or not.\n",
        "- If the accuracy is reached, we will stop there, and next epoch will not be executed.\n",
        "- If required accuracy is not reached, then the model will continue with next epoch."
      ]
    },
    {
      "cell_type": "code",
      "metadata": {
        "id": "aM_72aa4UpRH",
        "colab": {
          "base_uri": "https://localhost:8080/"
        },
        "outputId": "cfb3475e-55a8-41da-a0d1-aa48b9455ff5"
      },
      "source": [
        "class myCallback(tf.keras.callbacks.Callback):\n",
        "  def on_epoch_end(self, epoch, logs={}):\n",
        "    if(logs.get('accuracy') > 0.95):\n",
        "      print('\\nReached 95% accuracy so cancelling training')\n",
        "      self.model.stop_training = True\n",
        "\n",
        "callbacks = myCallback()\n",
        "\n",
        "model.fit(train_images,train_labels,epochs=200,callbacks=[callbacks])"
      ],
      "execution_count": null,
      "outputs": [
        {
          "output_type": "stream",
          "text": [
            "Epoch 1/200\n",
            "1875/1875 [==============================] - 3s 2ms/step - loss: 0.2217 - accuracy: 0.9162\n",
            "Epoch 2/200\n",
            "1875/1875 [==============================] - 3s 2ms/step - loss: 0.2144 - accuracy: 0.9200\n",
            "Epoch 3/200\n",
            "1875/1875 [==============================] - 3s 2ms/step - loss: 0.2075 - accuracy: 0.9227\n",
            "Epoch 4/200\n",
            "1875/1875 [==============================] - 3s 2ms/step - loss: 0.2032 - accuracy: 0.9229\n",
            "Epoch 5/200\n",
            "1875/1875 [==============================] - 3s 2ms/step - loss: 0.1961 - accuracy: 0.9256\n",
            "Epoch 6/200\n",
            "1875/1875 [==============================] - 3s 2ms/step - loss: 0.1901 - accuracy: 0.9292\n",
            "Epoch 7/200\n",
            "1875/1875 [==============================] - 3s 2ms/step - loss: 0.1874 - accuracy: 0.9300\n",
            "Epoch 8/200\n",
            "1875/1875 [==============================] - 3s 2ms/step - loss: 0.1813 - accuracy: 0.9311\n",
            "Epoch 9/200\n",
            "1875/1875 [==============================] - 3s 2ms/step - loss: 0.1757 - accuracy: 0.9337\n",
            "Epoch 10/200\n",
            "1875/1875 [==============================] - 3s 2ms/step - loss: 0.1729 - accuracy: 0.9355\n",
            "Epoch 11/200\n",
            "1875/1875 [==============================] - 3s 2ms/step - loss: 0.1671 - accuracy: 0.9367\n",
            "Epoch 12/200\n",
            "1875/1875 [==============================] - 3s 2ms/step - loss: 0.1640 - accuracy: 0.9395\n",
            "Epoch 13/200\n",
            "1875/1875 [==============================] - 3s 2ms/step - loss: 0.1603 - accuracy: 0.9391\n",
            "Epoch 14/200\n",
            "1875/1875 [==============================] - 3s 2ms/step - loss: 0.1558 - accuracy: 0.9410\n",
            "Epoch 15/200\n",
            "1875/1875 [==============================] - 3s 2ms/step - loss: 0.1505 - accuracy: 0.9430\n",
            "Epoch 16/200\n",
            "1875/1875 [==============================] - 3s 2ms/step - loss: 0.1480 - accuracy: 0.9457\n",
            "Epoch 17/200\n",
            "1875/1875 [==============================] - 3s 2ms/step - loss: 0.1458 - accuracy: 0.9458\n",
            "Epoch 18/200\n",
            "1875/1875 [==============================] - 3s 2ms/step - loss: 0.1427 - accuracy: 0.9456\n",
            "Epoch 19/200\n",
            "1875/1875 [==============================] - 3s 2ms/step - loss: 0.1394 - accuracy: 0.9475\n",
            "Epoch 20/200\n",
            "1875/1875 [==============================] - 3s 2ms/step - loss: 0.1376 - accuracy: 0.9479\n",
            "Epoch 21/200\n",
            "1875/1875 [==============================] - 3s 2ms/step - loss: 0.1335 - accuracy: 0.9495\n",
            "Epoch 22/200\n",
            "1870/1875 [============================>.] - ETA: 0s - loss: 0.1311 - accuracy: 0.9513\n",
            "Reached 95% accuracy so cancelling training\n",
            "1875/1875 [==============================] - 3s 2ms/step - loss: 0.1311 - accuracy: 0.9512\n"
          ],
          "name": "stdout"
        },
        {
          "output_type": "execute_result",
          "data": {
            "text/plain": [
              "<tensorflow.python.keras.callbacks.History at 0x7fde50054358>"
            ]
          },
          "metadata": {
            "tags": []
          },
          "execution_count": 35
        }
      ]
    },
    {
      "cell_type": "code",
      "metadata": {
        "id": "FGLPsHrUv6qE"
      },
      "source": [
        ""
      ],
      "execution_count": null,
      "outputs": []
    }
  ]
}